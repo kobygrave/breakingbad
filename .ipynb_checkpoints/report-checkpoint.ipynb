{
 "cells": [
  {
   "cell_type": "code",
   "execution_count": 2,
   "id": "c738dd0f",
   "metadata": {},
   "outputs": [
    {
     "data": {
      "text/markdown": [
       "# Breaking Bad: A Television Phenomenon\n",
       "\n",
       "**Breaking Bad** is an American crime drama television series created and produced by *Vince Gilligan* for AMC. Set and filmed in Albuquerque, New Mexico, the series follows *Walter White* (Bryan Cranston), an underpaid, dispirited high-school chemistry teacher struggling with a recent diagnosis of stage-three lung cancer. White turns to a life of crime, partnering with a former student, *Jesse Pinkman* (Aaron Paul), to produce and distribute methamphetamine to secure his family's financial future be...\n"
      ],
      "text/plain": [
       "<IPython.core.display.Markdown object>"
      ]
     },
     "execution_count": 2,
     "metadata": {},
     "output_type": "execute_result"
    }
   ],
   "source": [
    "import IPython.display as display\n",
    "\n",
    "# Define the content for the report\n",
    "title = \"Breaking Bad: A Television Phenomenon\"\n",
    "description = \"\"\"\n",
    "**Breaking Bad** is an American crime drama television series created and produced by *Vince Gilligan* for AMC. Set and filmed in Albuquerque, New Mexico, the series follows *Walter White* (Bryan Cranston), an underpaid, dispirited high-school chemistry teacher struggling with a recent diagnosis of stage-three lung cancer. White turns to a life of crime, partnering with a former student, *Jesse Pinkman* (Aaron Paul), to produce and distribute methamphetamine to secure his family's financial future be...\n",
    "\"\"\"\n",
    "\n",
    "# Display the content using Markdown\n",
    "display.Markdown(f\"# {title}\\n{description}\")\n"
   ]
  },
  {
   "cell_type": "code",
   "execution_count": null,
   "id": "42252d3b",
   "metadata": {},
   "outputs": [],
   "source": []
  }
 ],
 "metadata": {
  "kernelspec": {
   "display_name": "Python 3 (ipykernel)",
   "language": "python",
   "name": "python3"
  },
  "language_info": {
   "codemirror_mode": {
    "name": "ipython",
    "version": 3
   },
   "file_extension": ".py",
   "mimetype": "text/x-python",
   "name": "python",
   "nbconvert_exporter": "python",
   "pygments_lexer": "ipython3",
   "version": "3.11.5"
  }
 },
 "nbformat": 4,
 "nbformat_minor": 5
}
